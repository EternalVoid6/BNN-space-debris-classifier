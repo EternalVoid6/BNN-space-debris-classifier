{
  "cells": [
    {
      "cell_type": "markdown",
      "metadata": {
        "id": "view-in-github",
        "colab_type": "text"
      },
      "source": [
        "<a href=\"https://colab.research.google.com/github/EternalVoid6/BNN-space-debris-classifier/blob/main/BNN_IMC_InProgress.ipynb\" target=\"_parent\"><img src=\"https://colab.research.google.com/assets/colab-badge.svg\" alt=\"Open In Colab\"/></a>"
      ]
    },
    {
      "cell_type": "markdown",
      "metadata": {
        "id": "urvVipdu5L_i"
      },
      "source": [
        "**1: Project Setup and Installations**"
      ]
    },
    {
      "cell_type": "code",
      "execution_count": 1,
      "metadata": {
        "colab": {
          "base_uri": "https://localhost:8080/"
        },
        "id": "4F5H3q3i5Gon",
        "outputId": "d59e08d0-66c8-45a7-e54c-0906fdb30249"
      },
      "outputs": [
        {
          "output_type": "stream",
          "name": "stdout",
          "text": [
            "Collecting skyfield\n",
            "  Downloading skyfield-1.53-py3-none-any.whl.metadata (2.4 kB)\n",
            "Requirement already satisfied: certifi>=2017.4.17 in /usr/local/lib/python3.12/dist-packages (from skyfield) (2025.8.3)\n",
            "Collecting jplephem>=2.13 (from skyfield)\n",
            "  Downloading jplephem-2.23-py3-none-any.whl.metadata (23 kB)\n",
            "Requirement already satisfied: numpy in /usr/local/lib/python3.12/dist-packages (from skyfield) (2.0.2)\n",
            "Collecting sgp4>=2.13 (from skyfield)\n",
            "  Downloading sgp4-2.25-cp312-cp312-manylinux_2_5_x86_64.manylinux1_x86_64.manylinux_2_17_x86_64.manylinux2014_x86_64.whl.metadata (33 kB)\n",
            "Downloading skyfield-1.53-py3-none-any.whl (366 kB)\n",
            "\u001b[2K   \u001b[90m━━━━━━━━━━━━━━━━━━━━━━━━━━━━━━━━━━━━━━━━\u001b[0m \u001b[32m367.0/367.0 kB\u001b[0m \u001b[31m10.9 MB/s\u001b[0m eta \u001b[36m0:00:00\u001b[0m\n",
            "\u001b[?25hDownloading jplephem-2.23-py3-none-any.whl (49 kB)\n",
            "\u001b[2K   \u001b[90m━━━━━━━━━━━━━━━━━━━━━━━━━━━━━━━━━━━━━━━━\u001b[0m \u001b[32m49.4/49.4 kB\u001b[0m \u001b[31m2.8 MB/s\u001b[0m eta \u001b[36m0:00:00\u001b[0m\n",
            "\u001b[?25hDownloading sgp4-2.25-cp312-cp312-manylinux_2_5_x86_64.manylinux1_x86_64.manylinux_2_17_x86_64.manylinux2014_x86_64.whl (235 kB)\n",
            "\u001b[2K   \u001b[90m━━━━━━━━━━━━━━━━━━━━━━━━━━━━━━━━━━━━━━━━\u001b[0m \u001b[32m235.7/235.7 kB\u001b[0m \u001b[31m22.9 MB/s\u001b[0m eta \u001b[36m0:00:00\u001b[0m\n",
            "\u001b[?25hInstalling collected packages: sgp4, jplephem, skyfield\n",
            "Successfully installed jplephem-2.23 sgp4-2.25 skyfield-1.53\n",
            "All libraries installed and imported successfully!...\n"
          ]
        }
      ],
      "source": [
        "# Install the skyfield library for astronomical and satellite calculations\n",
        "!pip install skyfield\n",
        "\n",
        "# Import all necessary libraries for both experiments\n",
        "import torch\n",
        "import torch.nn as nn\n",
        "import torch.nn.functional as F\n",
        "import torch.optim as optim\n",
        "from torch.utils.data import TensorDataset, DataLoader\n",
        "from torch.optim.lr_scheduler import StepLR\n",
        "\n",
        "import numpy as np\n",
        "from tqdm import tqdm # For progress bars\n",
        "\n",
        "# Import libraries for data loading and visualization\n",
        "import torchvision\n",
        "import torchvision.transforms as transforms\n",
        "import matplotlib.pyplot as plt\n",
        "\n",
        "# Set a style for our plots\n",
        "plt.style.use('seaborn-v0_8-whitegrid')\n",
        "print(\"All libraries installed and imported successfully!...\")"
      ]
    },
    {
      "cell_type": "markdown",
      "metadata": {
        "id": "ozuYhHNw7S5e"
      },
      "source": [
        "**2: BNN Core Definitions**"
      ]
    },
    {
      "cell_type": "code",
      "execution_count": 2,
      "metadata": {
        "colab": {
          "base_uri": "https://localhost:8080/"
        },
        "id": "DnQ2vvVT7W0m",
        "outputId": "0e71b8e0-4dbe-4987-b5af-d7a77ffec9f8"
      },
      "outputs": [
        {
          "output_type": "stream",
          "name": "stdout",
          "text": [
            "BNN core components defined.\n"
          ]
        }
      ],
      "source": [
        "class Binarize(torch.autograd.Function):\n",
        "    @staticmethod\n",
        "    def forward(ctx, input):\n",
        "        return torch.where(input >= 0, torch.ones_like(input), torch.ones_like(input) * -1)\n",
        "    @staticmethod\n",
        "    def backward(ctx, grad_output):\n",
        "        return grad_output\n",
        "binarize = Binarize.apply\n",
        "\n",
        "class BinarizedConv2d(nn.Module):\n",
        "    def __init__(self, in_channels, out_channels, kernel_size, stride=1, padding=0, bias=False):\n",
        "        super(BinarizedConv2d, self).__init__()\n",
        "        self.conv = nn.Conv2d(in_channels, out_channels, kernel_size, stride, padding, bias=bias)\n",
        "    def forward(self, x):\n",
        "        return F.conv2d(x, binarize(self.conv.weight), stride=self.conv.stride, padding=self.conv.padding)\n",
        "\n",
        "class BinarizedLinear(nn.Module):\n",
        "    def __init__(self, in_features, out_features, bias=False):\n",
        "        super(BinarizedLinear, self).__init__()\n",
        "        self.linear = nn.Linear(in_features, out_features, bias=bias)\n",
        "    def forward(self, x):\n",
        "        return F.linear(x, binarize(self.linear.weight))\n",
        "\n",
        "print(\"BNN core components defined.\")"
      ]
    },
    {
      "cell_type": "markdown",
      "metadata": {
        "id": "kbdYdBOO8sgN"
      },
      "source": [
        "**Experiment 1: Benchmarking on the MNIST Dataset**"
      ]
    },
    {
      "cell_type": "markdown",
      "metadata": {
        "id": "K5sFHM3o7tSm"
      },
      "source": [
        "**3: MNIST - Model Definition**"
      ]
    },
    {
      "cell_type": "code",
      "execution_count": 3,
      "metadata": {
        "colab": {
          "base_uri": "https://localhost:8080/"
        },
        "id": "ZaMbfqzY7w22",
        "outputId": "a52517e0-d4b0-4100-eebe-7c0a61976016"
      },
      "outputs": [
        {
          "output_type": "stream",
          "name": "stdout",
          "text": [
            "BNN Model for MNIST defined.\n"
          ]
        }
      ],
      "source": [
        "# EXPERIMENT 1: MNIST\n",
        "\n",
        "# A BNN Model specifically for the 10 classes of MNIST\n",
        "class BNN_Model_MNIST(nn.Module):\n",
        "    def __init__(self):\n",
        "        super(BNN_Model_MNIST, self).__init__()\n",
        "        self.conv1 = BinarizedConv2d(1, 32, kernel_size=3, padding=1)\n",
        "        self.bn1 = nn.BatchNorm2d(32)\n",
        "        self.conv2 = BinarizedConv2d(32, 64, kernel_size=3, padding=1)\n",
        "        self.bn2 = nn.BatchNorm2d(64)\n",
        "        self.pool = nn.MaxPool2d(2, 2)\n",
        "        # The final layer has 10 outputs for digits 0-9\n",
        "        self.fc1 = BinarizedLinear(64 * 7 * 7, 10)\n",
        "\n",
        "    def forward(self, x):\n",
        "        x = self.conv1(x)\n",
        "        x = self.bn1(x)\n",
        "        x = binarize(x)\n",
        "        x = self.pool(x)\n",
        "        x = self.conv2(x)\n",
        "        x = self.bn2(x)\n",
        "        x = binarize(x)\n",
        "        x = self.pool(x)\n",
        "        x = x.view(-1, 64 * 7 * 7)\n",
        "        x = self.fc1(x)\n",
        "        return x\n",
        "\n",
        "print(\"BNN Model for MNIST defined.\")"
      ]
    },
    {
      "cell_type": "markdown",
      "metadata": {
        "id": "tcdhr8p_77md"
      },
      "source": [
        "**4: MNIST - Data Loading and Preprocessing**"
      ]
    },
    {
      "cell_type": "code",
      "execution_count": 4,
      "metadata": {
        "colab": {
          "base_uri": "https://localhost:8080/"
        },
        "id": "Rjkg7zTk79iG",
        "outputId": "ab7a4c49-72b8-4558-decb-bdccd62260ff"
      },
      "outputs": [
        {
          "output_type": "stream",
          "name": "stderr",
          "text": [
            "100%|██████████| 9.91M/9.91M [00:00<00:00, 38.0MB/s]\n",
            "100%|██████████| 28.9k/28.9k [00:00<00:00, 1.09MB/s]\n",
            "100%|██████████| 1.65M/1.65M [00:00<00:00, 9.54MB/s]\n",
            "100%|██████████| 4.54k/4.54k [00:00<00:00, 7.73MB/s]"
          ]
        },
        {
          "output_type": "stream",
          "name": "stdout",
          "text": [
            "\n",
            "MNIST dataset is ready.\n"
          ]
        },
        {
          "output_type": "stream",
          "name": "stderr",
          "text": [
            "\n"
          ]
        }
      ],
      "source": [
        "# Define the transformation to binarize the input images\n",
        "transform_mnist = transforms.Compose([\n",
        "    transforms.ToTensor(),\n",
        "    # Binarize the image: pixels > 0.5 become 1, else -1\n",
        "    lambda x: x.gt(0.5).float() * 2 - 1\n",
        "])\n",
        "\n",
        "# Download and load the training data (will be saved in a './data' folder)\n",
        "trainset_mnist = torchvision.datasets.MNIST(root='./data', train=True, download=True, transform=transform_mnist)\n",
        "trainloader_mnist = DataLoader(trainset_mnist, batch_size=128, shuffle=True)\n",
        "\n",
        "# Download and load the test data\n",
        "testset_mnist = torchvision.datasets.MNIST(root='./data', train=False, download=True, transform=transform_mnist)\n",
        "testloader_mnist = DataLoader(testset_mnist, batch_size=100, shuffle=False)\n",
        "\n",
        "print(\"\\nMNIST dataset is ready.\")"
      ]
    },
    {
      "cell_type": "markdown",
      "metadata": {
        "id": "Yrdd_MHj8L6t"
      },
      "source": [
        "**5: MNIST - Training and Evaluation**"
      ]
    },
    {
      "cell_type": "code",
      "execution_count": 5,
      "metadata": {
        "colab": {
          "base_uri": "https://localhost:8080/"
        },
        "id": "thnopsNc8N9O",
        "outputId": "af89ac28-92fe-4f79-afba-dfa87a67b518"
      },
      "outputs": [
        {
          "output_type": "stream",
          "name": "stdout",
          "text": [
            "Using device: cpu\n",
            "\n",
            "Starting MNIST Training... \n"
          ]
        },
        {
          "output_type": "stream",
          "name": "stderr",
          "text": [
            "Epoch 1/5: 100%|██████████| 469/469 [01:02<00:00,  7.45it/s]\n"
          ]
        },
        {
          "output_type": "stream",
          "name": "stdout",
          "text": [
            "End of Epoch 1, learning rate: 0.001\n"
          ]
        },
        {
          "output_type": "stream",
          "name": "stderr",
          "text": [
            "Epoch 2/5: 100%|██████████| 469/469 [01:05<00:00,  7.15it/s]\n"
          ]
        },
        {
          "output_type": "stream",
          "name": "stdout",
          "text": [
            "End of Epoch 2, learning rate: 0.0001\n"
          ]
        },
        {
          "output_type": "stream",
          "name": "stderr",
          "text": [
            "Epoch 3/5: 100%|██████████| 469/469 [01:05<00:00,  7.19it/s]\n"
          ]
        },
        {
          "output_type": "stream",
          "name": "stdout",
          "text": [
            "End of Epoch 3, learning rate: 0.0001\n"
          ]
        },
        {
          "output_type": "stream",
          "name": "stderr",
          "text": [
            "Epoch 4/5: 100%|██████████| 469/469 [01:05<00:00,  7.13it/s]\n"
          ]
        },
        {
          "output_type": "stream",
          "name": "stdout",
          "text": [
            "End of Epoch 4, learning rate: 1e-05\n"
          ]
        },
        {
          "output_type": "stream",
          "name": "stderr",
          "text": [
            "Epoch 5/5: 100%|██████████| 469/469 [01:05<00:00,  7.14it/s]\n"
          ]
        },
        {
          "output_type": "stream",
          "name": "stdout",
          "text": [
            "End of Epoch 5, learning rate: 1e-05\n",
            "Finished Training!\n",
            "\n",
            "Accuracy of the BNN on the 10000 test images: 94.34 %\n"
          ]
        }
      ],
      "source": [
        "# Setup for training\n",
        "device = torch.device(\"cuda:0\" if torch.cuda.is_available() else \"cpu\")\n",
        "model_mnist = BNN_Model_MNIST().to(device)\n",
        "criterion = nn.CrossEntropyLoss()\n",
        "optimizer = optim.Adam(model_mnist.parameters(), lr=0.001)\n",
        "epochs = 5 # Can be increased for higher accuracy\n",
        "scheduler = StepLR(optimizer, step_size=2, gamma=0.1)\n",
        "\n",
        "print(f\"Using device: {device}\")\n",
        "print(\"\\nStarting MNIST Training... \")\n",
        "\n",
        "# Training Loop\n",
        "for epoch in range(epochs):\n",
        "    model_mnist.train()\n",
        "    for i, (inputs, labels) in enumerate(tqdm(trainloader_mnist, desc=f\"Epoch {epoch+1}/{epochs}\")):\n",
        "        inputs, labels = inputs.to(device), labels.to(device)\n",
        "        optimizer.zero_grad()\n",
        "        outputs = model_mnist(inputs)\n",
        "        loss = criterion(outputs, labels)\n",
        "        loss.backward()\n",
        "        optimizer.step()\n",
        "    scheduler.step()\n",
        "    print(f\"End of Epoch {epoch+1}, learning rate: {scheduler.get_last_lr()[0]}\")\n",
        "\n",
        "print(\"Finished Training!\")\n",
        "\n",
        "# Evaluation Loop\n",
        "correct = 0\n",
        "total = 0\n",
        "with torch.no_grad():\n",
        "    model_mnist.eval()\n",
        "    for images, labels in testloader_mnist:\n",
        "        images, labels = images.to(device), labels.to(device)\n",
        "        outputs = model_mnist(images)\n",
        "        _, predicted = torch.max(outputs.data, 1)\n",
        "        total += labels.size(0)\n",
        "        correct += (predicted == labels).sum().item()\n",
        "\n",
        "accuracy = 100 * correct / total\n",
        "print(f'\\nAccuracy of the BNN on the 10000 test images: {accuracy:.2f} %')"
      ]
    },
    {
      "cell_type": "markdown",
      "metadata": {
        "id": "VakKYqqW8ZuF"
      },
      "source": [
        "**6: MNIST - Visualize Results**"
      ]
    },
    {
      "cell_type": "code",
      "execution_count": 6,
      "metadata": {
        "colab": {
          "base_uri": "https://localhost:8080/",
          "height": 806
        },
        "id": "wo7-r8iK8cQ1",
        "outputId": "90febfaa-d811-4484-989f-b31efd75a0b5"
      },
      "outputs": [
        {
          "output_type": "display_data",
          "data": {
            "text/plain": [
              "<Figure size 1200x800 with 10 Axes>"
            ],
            "image/png": "[encoded data removed]"
          },
          "metadata": {}
        }
      ],
      "source": [
        "def visualize_mnist_predictions(model, dataloader, num_images=10):\n",
        "    was_training = model.training\n",
        "    model.eval()\n",
        "    images_so_far = 0\n",
        "    fig = plt.figure(figsize=(12, 8))\n",
        "\n",
        "    with torch.no_grad():\n",
        "        for i, (inputs, labels) in enumerate(dataloader):\n",
        "            inputs = inputs.to(device)\n",
        "            labels = labels.to(device)\n",
        "            outputs = model(inputs)\n",
        "            _, preds = torch.max(outputs, 1)\n",
        "\n",
        "            for j in range(inputs.size()[0]):\n",
        "                images_so_far += 1\n",
        "                ax = plt.subplot(num_images//2, 2, images_so_far)\n",
        "                ax.axis('off')\n",
        "\n",
        "                # Set title color based on correctness\n",
        "                color = \"green\" if preds[j] == labels[j] else \"red\"\n",
        "                ax.set_title(f'Predicted: {preds[j]} | True: {labels[j]}', color=color)\n",
        "\n",
        "                # Show the binarized input the model sees\n",
        "                img_display = inputs.cpu().data[j]\n",
        "                plt.imshow(img_display.squeeze(), cmap='gray')\n",
        "\n",
        "                if images_so_far == num_images:\n",
        "                    model.train(mode=was_training)\n",
        "                    plt.tight_layout()\n",
        "                    plt.show()\n",
        "                    return\n",
        "    model.train(mode=was_training)\n",
        "\n",
        "visualize_mnist_predictions(model_mnist, testloader_mnist)"
      ]
    },
    {
      "cell_type": "markdown",
      "metadata": {
        "id": "8I0Na5lj8i5V"
      },
      "source": [
        "**Experiment 2: Real-World Application - Space Debris Classification**"
      ]
    },
    {
      "cell_type": "markdown",
      "metadata": {
        "id": "LuJoOVvw80Ks"
      },
      "source": [
        "**7: Space Debris - Model Definition**"
      ]
    },
    {
      "cell_type": "code",
      "execution_count": 7,
      "metadata": {
        "colab": {
          "base_uri": "https://localhost:8080/"
        },
        "id": "_6gu4qaB84fV",
        "outputId": "f9e10f8e-766b-409b-b1f1-f44705e99315"
      },
      "outputs": [
        {
          "output_type": "stream",
          "name": "stdout",
          "text": [
            "BNN Model for Space Debris defined.\n"
          ]
        }
      ],
      "source": [
        "# A BNN Model specifically for the 2 classes of our debris problem\n",
        "class BNN_Model_Debris(nn.Module):\n",
        "    def __init__(self):\n",
        "        super(BNN_Model_Debris, self).__init__()\n",
        "        self.conv1 = BinarizedConv2d(1, 32, kernel_size=3, padding=1)\n",
        "        self.bn1 = nn.BatchNorm2d(32)\n",
        "        self.conv2 = BinarizedConv2d(32, 64, kernel_size=3, padding=1)\n",
        "        self.bn2 = nn.BatchNorm2d(64)\n",
        "        self.pool = nn.MaxPool2d(2, 2)\n",
        "        # The final layer has 2 outputs: \"Safe\" and \"Debris\"\n",
        "        self.fc1 = BinarizedLinear(64 * 7 * 7, 2)\n",
        "\n",
        "    def forward(self, x):\n",
        "        x = self.conv1(x)\n",
        "        x = self.bn1(x)\n",
        "        x = binarize(x)\n",
        "        x = self.pool(x)\n",
        "        x = self.conv2(x)\n",
        "        x = self.bn2(x)\n",
        "        x = binarize(x)\n",
        "        x = self.pool(x)\n",
        "        x = x.view(-1, 64 * 7 * 7)\n",
        "        x = self.fc1(x)\n",
        "        return x\n",
        "\n",
        "print(\"BNN Model for Space Debris defined.\")"
      ]
    },
    {
      "cell_type": "markdown",
      "metadata": {
        "id": "1xitITPc9H98"
      },
      "source": [
        "**8: Space Debris - Data Loading and Generation**"
      ]
    },
    {
      "cell_type": "code",
      "execution_count": 11,
      "metadata": {
        "colab": {
          "base_uri": "https://localhost:8080/"
        },
        "id": "SxM0J-1Q9Lec",
        "outputId": "c508e262-f360-4d8e-ee04-a7c82f71acf3"
      },
      "outputs": [
        {
          "output_type": "stream",
          "name": "stdout",
          "text": [
            "Downloading satellite TLE data...\n"
          ]
        },
        {
          "output_type": "stream",
          "name": "stderr",
          "text": [
            "[#################################] 100% gp.php\n",
            "[#################################] 100% gp.php\n"
          ]
        },
        {
          "output_type": "stream",
          "name": "stdout",
          "text": [
            "Loaded 12894 total objects.\n",
            "Generating 5000 samples from TLE data...\n"
          ]
        },
        {
          "output_type": "stream",
          "name": "stderr",
          "text": [
            "100%|██████████| 5000/5000 [1:24:39<00:00,  1.02s/it]\n"
          ]
        },
        {
          "output_type": "stream",
          "name": "stdout",
          "text": [
            "Generating 1000 samples from TLE data...\n"
          ]
        },
        {
          "output_type": "stream",
          "name": "stderr",
          "text": [
            "100%|██████████| 1000/1000 [17:16<00:00,  1.04s/it]"
          ]
        },
        {
          "output_type": "stream",
          "name": "stdout",
          "text": [
            "\n",
            "Debris dataset is ready.\n"
          ]
        },
        {
          "output_type": "stream",
          "name": "stderr",
          "text": [
            "\n"
          ]
        }
      ],
      "source": [
        "from skyfield.api import load\n",
        "\n",
        "def create_dataset_from_tle(satellites, num_samples, img_size=28):\n",
        "    images, labels = [], []\n",
        "    ts = load.timescale()\n",
        "    now = ts.now()\n",
        "    time_offsets = np.random.uniform(0, 1, num_samples)\n",
        "\n",
        "    print(f\"Generating {num_samples} samples from TLE data...\")\n",
        "    for i in tqdm(range(num_samples)):\n",
        "        t = ts.utc(now.utc.year, now.utc.month, now.utc.day, now.utc.hour + time_offsets[i]*24)\n",
        "        geocentric = [sat.at(t) for sat in satellites]\n",
        "        center_sat = satellites[np.random.randint(len(satellites))]\n",
        "        sensor_map = np.zeros((img_size, img_size))\n",
        "        has_debris = False\n",
        "\n",
        "        for j, sat in enumerate(satellites):\n",
        "            if center_sat.model.satnum == sat.model.satnum: continue\n",
        "            distance = np.linalg.norm(geocentric[j].position.km - center_sat.at(t).position.km)\n",
        "            if distance < 3000: # Simplified distance threshold (3000 km)\n",
        "                px, py = np.random.randint(0, img_size), np.random.randint(0, img_size)\n",
        "                sensor_map[px, py] = 1.0\n",
        "                if \"DEB\" in sat.name or \"R/B\" in sat.name:\n",
        "                    has_debris = True\n",
        "\n",
        "        binarized_image = (sensor_map > 0.5).astype(np.float32) * 2 - 1\n",
        "        images.append(binarized_image)\n",
        "        labels.append(1 if has_debris else 0)\n",
        "\n",
        "    return TensorDataset(torch.FloatTensor(np.array(images)).unsqueeze(1), torch.LongTensor(np.array(labels)))\n",
        "\n",
        "print(\"Downloading satellite TLE data...\")\n",
        "stations_url = 'https://celestrak.org/NORAD/elements/gp.php?GROUP=active&FORMAT=tle'\n",
        "debris_url = 'https://celestrak.org/NORAD/elements/gp.php?GROUP=debris&FORMAT=tle'\n",
        "satellites = load.tle_file(stations_url, reload=True)\n",
        "debris = load.tle_file(debris_url, reload=True)\n",
        "all_objects = satellites + debris\n",
        "print(f\"Loaded {len(all_objects)} total objects.\")\n",
        "\n",
        "# Generate Datasets and DataLoaders\n",
        "train_dataset_debris = create_dataset_from_tle(all_objects, num_samples=5000)\n",
        "test_dataset_debris = create_dataset_from_tle(all_objects, num_samples=1000)\n",
        "trainloader_debris = DataLoader(train_dataset_debris, batch_size=64, shuffle=True)\n",
        "testloader_debris = DataLoader(test_dataset_debris, batch_size=100, shuffle=False)\n",
        "print(\"\\nDebris dataset is ready.\")"
      ]
    },
    {
      "cell_type": "markdown",
      "metadata": {
        "id": "FPW1J1yr9TPk"
      },
      "source": [
        "**9: Space Debris - Training and Evaluation**"
      ]
    },
    {
      "cell_type": "code",
      "execution_count": 200,
      "metadata": {
        "id": "yqaBlf409VWl",
        "colab": {
          "base_uri": "https://localhost:8080/"
        },
        "outputId": "90566e13-8cd6-44c0-8e12-ab808829835c"
      },
      "outputs": [
        {
          "output_type": "stream",
          "name": "stdout",
          "text": [
            "Using device: cpu\n",
            "\n",
            "Starting Space Debris Training...\n"
          ]
        },
        {
          "output_type": "stream",
          "name": "stderr",
          "text": [
            "Epoch 1/15: 100%|██████████| 79/79 [00:05<00:00, 13.35it/s]\n"
          ]
        },
        {
          "output_type": "stream",
          "name": "stdout",
          "text": [
            "End of Epoch 1, learning rate: 0.001\n"
          ]
        },
        {
          "output_type": "stream",
          "name": "stderr",
          "text": [
            "Epoch 2/15: 100%|██████████| 79/79 [00:05<00:00, 13.48it/s]\n"
          ]
        },
        {
          "output_type": "stream",
          "name": "stdout",
          "text": [
            "End of Epoch 2, learning rate: 0.001\n"
          ]
        },
        {
          "output_type": "stream",
          "name": "stderr",
          "text": [
            "Epoch 3/15: 100%|██████████| 79/79 [00:05<00:00, 14.79it/s]\n"
          ]
        },
        {
          "output_type": "stream",
          "name": "stdout",
          "text": [
            "End of Epoch 3, learning rate: 0.001\n"
          ]
        },
        {
          "output_type": "stream",
          "name": "stderr",
          "text": [
            "Epoch 4/15: 100%|██████████| 79/79 [00:06<00:00, 13.04it/s]\n"
          ]
        },
        {
          "output_type": "stream",
          "name": "stdout",
          "text": [
            "End of Epoch 4, learning rate: 0.001\n"
          ]
        },
        {
          "output_type": "stream",
          "name": "stderr",
          "text": [
            "Epoch 5/15: 100%|██████████| 79/79 [00:05<00:00, 14.69it/s]\n"
          ]
        },
        {
          "output_type": "stream",
          "name": "stdout",
          "text": [
            "End of Epoch 5, learning rate: 0.0001\n"
          ]
        },
        {
          "output_type": "stream",
          "name": "stderr",
          "text": [
            "Epoch 6/15: 100%|██████████| 79/79 [00:05<00:00, 13.41it/s]\n"
          ]
        },
        {
          "output_type": "stream",
          "name": "stdout",
          "text": [
            "End of Epoch 6, learning rate: 0.0001\n"
          ]
        },
        {
          "output_type": "stream",
          "name": "stderr",
          "text": [
            "Epoch 7/15: 100%|██████████| 79/79 [00:05<00:00, 14.57it/s]\n"
          ]
        },
        {
          "output_type": "stream",
          "name": "stdout",
          "text": [
            "End of Epoch 7, learning rate: 0.0001\n"
          ]
        },
        {
          "output_type": "stream",
          "name": "stderr",
          "text": [
            "Epoch 8/15: 100%|██████████| 79/79 [00:05<00:00, 13.74it/s]\n"
          ]
        },
        {
          "output_type": "stream",
          "name": "stdout",
          "text": [
            "End of Epoch 8, learning rate: 0.0001\n"
          ]
        },
        {
          "output_type": "stream",
          "name": "stderr",
          "text": [
            "Epoch 9/15: 100%|██████████| 79/79 [00:05<00:00, 14.04it/s]\n"
          ]
        },
        {
          "output_type": "stream",
          "name": "stdout",
          "text": [
            "End of Epoch 9, learning rate: 0.0001\n"
          ]
        },
        {
          "output_type": "stream",
          "name": "stderr",
          "text": [
            "Epoch 10/15: 100%|██████████| 79/79 [00:06<00:00, 12.78it/s]\n"
          ]
        },
        {
          "output_type": "stream",
          "name": "stdout",
          "text": [
            "End of Epoch 10, learning rate: 1e-05\n"
          ]
        },
        {
          "output_type": "stream",
          "name": "stderr",
          "text": [
            "Epoch 11/15: 100%|██████████| 79/79 [00:05<00:00, 13.35it/s]\n"
          ]
        },
        {
          "output_type": "stream",
          "name": "stdout",
          "text": [
            "End of Epoch 11, learning rate: 1e-05\n"
          ]
        },
        {
          "output_type": "stream",
          "name": "stderr",
          "text": [
            "Epoch 12/15: 100%|██████████| 79/79 [00:06<00:00, 12.65it/s]\n"
          ]
        },
        {
          "output_type": "stream",
          "name": "stdout",
          "text": [
            "End of Epoch 12, learning rate: 1e-05\n"
          ]
        },
        {
          "output_type": "stream",
          "name": "stderr",
          "text": [
            "Epoch 13/15: 100%|██████████| 79/79 [00:05<00:00, 14.59it/s]\n"
          ]
        },
        {
          "output_type": "stream",
          "name": "stdout",
          "text": [
            "End of Epoch 13, learning rate: 1e-05\n"
          ]
        },
        {
          "output_type": "stream",
          "name": "stderr",
          "text": [
            "Epoch 14/15: 100%|██████████| 79/79 [00:05<00:00, 13.18it/s]\n"
          ]
        },
        {
          "output_type": "stream",
          "name": "stdout",
          "text": [
            "End of Epoch 14, learning rate: 1e-05\n"
          ]
        },
        {
          "output_type": "stream",
          "name": "stderr",
          "text": [
            "Epoch 15/15: 100%|██████████| 79/79 [00:05<00:00, 13.76it/s]\n"
          ]
        },
        {
          "output_type": "stream",
          "name": "stdout",
          "text": [
            "End of Epoch 15, learning rate: 1.0000000000000002e-06\n",
            "Finished Training!\n",
            "\n",
            "Accuracy of the BNN on the generated TLE test images: 63.00 %\n"
          ]
        }
      ],
      "source": [
        "# Setup for training\n",
        "device = torch.device(\"cuda:0\" if torch.cuda.is_available() else \"cpu\")\n",
        "model_debris = BNN_Model_Debris().to(device)\n",
        "criterion = nn.CrossEntropyLoss()\n",
        "optimizer = optim.Adam(model_debris.parameters(), lr=0.001)\n",
        "epochs = 15\n",
        "scheduler = StepLR(optimizer, step_size=5, gamma=0.1)\n",
        "\n",
        "print(f\"Using device: {device}\")\n",
        "print(\"\\nStarting Space Debris Training...\")\n",
        "\n",
        "# Training Loop\n",
        "for epoch in range(epochs):\n",
        "    model_debris.train()\n",
        "    for i, (inputs, labels) in enumerate(tqdm(trainloader_debris, desc=f\"Epoch {epoch+1}/{epochs}\")):\n",
        "        inputs, labels = inputs.to(device), labels.to(device)\n",
        "        optimizer.zero_grad()\n",
        "        outputs = model_debris(inputs)\n",
        "        loss = criterion(outputs, labels)\n",
        "        loss.backward()\n",
        "        optimizer.step()\n",
        "    scheduler.step()\n",
        "    print(f\"End of Epoch {epoch+1}, learning rate: {scheduler.get_last_lr()[0]}\")\n",
        "\n",
        "print(\"Finished Training!\")\n",
        "\n",
        "# Evaluation Loop\n",
        "correct = 0\n",
        "total = 0\n",
        "with torch.no_grad():\n",
        "    model_debris.eval()\n",
        "    for images, labels in testloader_debris:\n",
        "        images, labels = images.to(device), labels.to(device)\n",
        "        outputs = model_debris(images)\n",
        "        _, predicted = torch.max(outputs.data, 1)\n",
        "        total += labels.size(0)\n",
        "        correct += (predicted == labels).sum().item()\n",
        "\n",
        "accuracy = 100 * correct / total\n",
        "print(f'\\nAccuracy of the BNN on the generated TLE test images: {accuracy:.2f} %')"
      ]
    },
    {
      "cell_type": "markdown",
      "metadata": {
        "id": "Y__uW6I99b7k"
      },
      "source": [
        "**10: Space Debris - Visualize Results**"
      ]
    },
    {
      "cell_type": "code",
      "execution_count": 201,
      "metadata": {
        "id": "KvwMI4wc9fE9",
        "colab": {
          "base_uri": "https://localhost:8080/",
          "height": 806
        },
        "outputId": "22d08f4b-8be3-4c61-8b7e-48764e923276"
      },
      "outputs": [
        {
          "output_type": "display_data",
          "data": {
            "text/plain": [
              "<Figure size 1200x800 with 10 Axes>"
            ],
            "image/png": "[encoded data removed]"
          },
          "metadata": {}
        }
      ],
      "source": [
        "def visualize_debris_predictions(model, dataloader, num_images=10):\n",
        "    was_training = model.training\n",
        "    model.eval()\n",
        "    images_so_far = 0\n",
        "    fig = plt.figure(figsize=(12, 8))\n",
        "    class_names = ['Safe', 'Debris']\n",
        "\n",
        "    with torch.no_grad():\n",
        "        for i, (inputs, labels) in enumerate(dataloader):\n",
        "            inputs = inputs.to(device)\n",
        "            labels = labels.to(device)\n",
        "            outputs = model(inputs)\n",
        "            _, preds = torch.max(outputs, 1)\n",
        "\n",
        "            for j in range(inputs.size()[0]):\n",
        "                images_so_far += 1\n",
        "                ax = plt.subplot(num_images//2, 2, images_so_far)\n",
        "                ax.axis('off')\n",
        "\n",
        "                pred_name = class_names[preds[j]]\n",
        "                true_name = class_names[labels[j]]\n",
        "                color = \"green\" if pred_name == true_name else \"red\"\n",
        "                ax.set_title(f'Predicted: {pred_name} | True: {true_name}', color=color)\n",
        "\n",
        "                img_display = inputs.cpu().data[j]\n",
        "                plt.imshow(img_display.squeeze(), cmap='hot') # 'hot' colormap looks like a sensor\n",
        "\n",
        "                if images_so_far == num_images:\n",
        "                    model.train(mode=was_training)\n",
        "                    plt.tight_layout()\n",
        "                    plt.show()\n",
        "                    return\n",
        "    model.train(mode=was_training)\n",
        "\n",
        "visualize_debris_predictions(model_debris, testloader_debris)"
      ]
    },
    {
      "cell_type": "markdown",
      "source": [
        "**11. Data Sanity Check: Visualizing a Single Sample**"
      ],
      "metadata": {
        "id": "12QHrSG7yBdM"
      }
    },
    {
      "cell_type": "code",
      "source": [
        "import matplotlib.pyplot as plt\n",
        "import numpy as np\n",
        "\n",
        "# --- Let's visualize a random sample from the training set ---\n",
        "\n",
        "# Make sure the train_dataset_debris variable exists from the previous cell\n",
        "if 'train_dataset_debris' in locals():\n",
        "    # Pick a random index\n",
        "    sample_idx = np.random.randint(len(train_dataset_debris))\n",
        "\n",
        "    # Get the image and its corresponding label\n",
        "    image_tensor, label_tensor = train_dataset_debris[sample_idx]\n",
        "\n",
        "    # Prepare for plotting\n",
        "    image = image_tensor.squeeze().numpy() # Convert from PyTorch tensor to NumPy array\n",
        "    label = label_tensor.item() # Get the label as a standard number (0 or 1)\n",
        "\n",
        "    # Create the plot\n",
        "    plt.figure(figsize=(6, 6))\n",
        "    plt.imshow(image, cmap='hot') # 'hot' colormap looks like a radar/heat map\n",
        "\n",
        "    # Set the title based on the label\n",
        "    title_text = f\"Label: {label} ('Debris Present')\" if label == 1 else f\"Label: {label} ('Safe')\"\n",
        "    plt.title(title_text, fontsize=14)\n",
        "\n",
        "    plt.colorbar().set_label('Sensor Reading (-1: Empty, 1: Object)')\n",
        "    plt.show()\n",
        "\n",
        "else:\n",
        "    print(\"Please run the data generation cell (Cell 8) first to create 'train_dataset_debris'.\")"
      ],
      "metadata": {
        "colab": {
          "base_uri": "https://localhost:8080/",
          "height": 512
        },
        "id": "tldH_3FwwBzE",
        "outputId": "c054ab0b-75bb-4dd5-a234-e9534fd561b1"
      },
      "execution_count": 202,
      "outputs": [
        {
          "output_type": "display_data",
          "data": {
            "text/plain": [
              "<Figure size 600x600 with 2 Axes>"
            ],
            "image/png": "[encoded data removed]"
          },
          "metadata": {}
        }
      ]
    }
  ],
  "metadata": {
    "colab": {
      "provenance": [],
      "authorship_tag": "ABX9TyPSpn1ZNo9VArmnWMP4c0FQ",
      "include_colab_link": true
    },
    "kernelspec": {
      "display_name": "Python 3",
      "name": "python3"
    },
    "language_info": {
      "name": "python"
    }
  },
  "nbformat": 4,
  "nbformat_minor": 0
}